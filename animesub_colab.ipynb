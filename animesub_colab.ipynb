{
  "cells": [
    {
      "cell_type": "code",
      "execution_count": null,
      "metadata": {
        "colab": {
          "base_uri": "https://localhost:8080/"
        },
        "id": "V4gzfu0gJd4J",
        "outputId": "3c01b1b3-ca55-4982-ce34-2ef153a7db2b"
      },
      "outputs": [],
      "source": [
        "# @title Шаг 1: Настройка среды\n",
        "#\n",
        "# Запустите эту ячейку один раз в начале работы, чтобы\n",
        "# подключить Google Drive и установить необходимые библиотеки.\n",
        "\n",
        "from google.colab import drive\n",
        "\n",
        "# Монтирование Google Drive\n",
        "print(\"1/2. Подключение Google Drive...\")\n",
        "drive.mount('/content/drive')\n",
        "\n",
        "print(\"2/2. Установка animesub и других зависимостей...\")\n",
        "# Установка библиотеки animesub\n",
        "!pip install animesub==1.0.2 ffmpeg-python > /dev/null\n",
        "\n",
        "print(\"\\nВсе зависимости установлены. Переходите к следующему шагу.\")"
      ]
    },
    {
      "cell_type": "code",
      "execution_count": null,
      "metadata": {
        "colab": {
          "base_uri": "https://localhost:8080/"
        },
        "id": "LHXUw6MODu9G",
        "outputId": "f4ee54f9-2b9b-4ad2-c7ef-fa810a8f2748"
      },
      "outputs": [],
      "source": [
        "# @title Шаг 2: Настройки и запуск генерации\n",
        "#\n",
        "# Укажите путь к вашему файлу и выберите параметры.\n",
        "# После этого запустите ячейку для начала генерации субтитров.\n",
        "\n",
        "import os\n",
        "import logging\n",
        "\n",
        "# @markdown ### Пути к файлам\n",
        "# @markdown Путь к файлу на Google Drive (например, `/content/drive/MyDrive/my_videos/episode1.mp4`)\n",
        "input_file_path = \"/content/drive/MyDrive/da.wav\" #@param {type:\"string\"}\n",
        "\n",
        "# @markdown Путь к папке для сохранения субтитров (например, `/content/drive/MyDrive/my_videos/`)\n",
        "output_dir_path = \"/content/drive/MyDrive/subtitles/\" #@param {type:\"string\"}\n",
        "\n",
        "# @markdown ### Параметры\n",
        "# @markdown Имя модели Whisper (tiny, base, small, medium, large, large-v2, large-v3, kotoba-faster, kotoba-whisper, kotoba-whisper-v2.2\")\n",
        "model_name = \"large-v2\" #@param [\"tiny\", \"base\", \"small\", \"medium\", \"large\", \"large-v2\", \"large-v3\", \"kotoba-faster\", \"kotoba-whisper\", \"kotoba-whisper-v2.2\"]\n",
        "\n",
        "# @markdown Устройство для вычислений (cuda или cpu)\n",
        "device = \"cuda\" #@param [\"cuda\", \"cpu\"]\n",
        "\n",
        "# --- Выполнение ---\n",
        "logging.info(\"\\n--- Запуск процесса создания субтитров ---\")\n",
        "\n",
        "# Проверяем, существует ли входной файл\n",
        "if not os.path.exists(input_file_path):\n",
        "    logging.error(f\"Ошибка: Файл не найден по пути: {input_file_path}\")\n",
        "else:\n",
        "    # Проверяем, существует ли папка для сохранения. Если нет, создаем её.\n",
        "    if not os.path.exists(output_dir_path):\n",
        "        os.makedirs(output_dir_path)\n",
        "        logging.info(f\"Папка для сохранения '{output_dir_path}' была создана.\")\n",
        "\n",
        "    # Определяем имя выходного файла\n",
        "    base_name = os.path.splitext(os.path.basename(input_file_path))[0]\n",
        "    output_srt_name = os.path.join(output_dir_path, f\"{base_name}.srt\")\n",
        "\n",
        "    # Запуск команды animesub\n",
        "    !animesub -i \"$input_file_path\" -o \"$output_srt_name\" -m \"$model_name\" -d \"$device\"\n",
        "\n",
        "    logging.info(\"\\n--- Процесс завершен! ---\")\n",
        "    # Проверка результата\n",
        "    if os.path.exists(output_srt_name):\n",
        "        logging.info(f\"Субтитры успешно сохранены в: {output_srt_name}\")\n",
        "    else:\n",
        "        logging.error(f\"Файл субтитров не создан: {output_srt_name}\")\n"
      ]
    },
    {
      "cell_type": "code",
      "execution_count": null,
      "metadata": {
        "colab": {
          "base_uri": "https://localhost:8080/",
          "height": 52
        },
        "id": "CjNuULa8Lusr",
        "outputId": "7ba89732-dde8-4d77-bcff-4d95ca2c0a26"
      },
      "outputs": [],
      "source": [
        "# @title Шаг 3: Скачать субтитры\n",
        "#\n",
        "# Запустите эту ячейку, чтобы скачать сгенерированный SRT-файл.\n",
        "from google.colab import files\n",
        "\n",
        "# Убедитесь, что переменная output_srt_name доступна\n",
        "# Если вы запустили предыдущую ячейку, она будет доступна\n",
        "try:\n",
        "    files.download(output_srt_name)\n",
        "    print(f\"\\nФайл {output_srt_name} успешно скачан.\")\n",
        "except NameError:\n",
        "    print(\"Ошибка: Переменная 'output_srt_name' не определена. Сначала запустите предыдущую ячейку.\")\n",
        "except FileNotFoundError:\n",
        "    print(f\"Ошибка: Файл {output_srt_name} не найден. Проверьте путь.\")"
      ]
    }
  ],
  "metadata": {
    "accelerator": "GPU",
    "colab": {
      "gpuType": "T4",
      "provenance": []
    },
    "kernelspec": {
      "display_name": "Python 3",
      "name": "python3"
    },
    "language_info": {
      "name": "python"
    }
  },
  "nbformat": 4,
  "nbformat_minor": 0
}
