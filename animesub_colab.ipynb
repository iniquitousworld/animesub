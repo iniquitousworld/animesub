{
  "nbformat": 4,
  "nbformat_minor": 0,
  "metadata": {
    "colab": {
      "provenance": [],
      "gpuType": "T4"
    },
    "kernelspec": {
      "name": "python3",
      "display_name": "Python 3"
    },
    "language_info": {
      "name": "python"
    },
    "accelerator": "GPU"
  },
  "cells": [
    {
      "cell_type": "code",
      "source": [
        "# @title Шаг 1: Настройка среды\n",
        "#\n",
        "# Запустите эту ячейку один раз в начале работы, чтобы\n",
        "# подключить Google Drive и установить необходимые библиотеки.\n",
        "\n",
        "from google.colab import drive\n",
        "\n",
        "# Монтирование Google Drive\n",
        "print(\"1/3. Подключение Google Drive...\")\n",
        "drive.mount('/content/drive')\n",
        "\n",
        "# Установка зависимостей\n",
        "print(\"2/3. Установка torch и torchaudio...\")\n",
        "# Установка torch и torchaudio с поддержкой CUDA\n",
        "!pip install torch==2.8.0+cu126 torchaudio==2.8.0+cu126 torchvision==0.23.0+cu126 --index-url https://download.pytorch.org/whl/cu126 > /dev/null\n",
        "\n",
        "print(\"3/3. Установка animesub и других зависимостей...\")\n",
        "# Установка библиотеки animesub (без torch и torchaudio, которые уже установлены)\n",
        "!pip install animesub ffmpeg-python > /dev/null\n",
        "\n",
        "print(\"\\nВсе зависимости установлены. Переходите к следующему шагу.\")"
      ],
      "metadata": {
        "id": "V4gzfu0gJd4J"
      },
      "execution_count": null,
      "outputs": []
    },
    {
      "cell_type": "code",
      "execution_count": null,
      "metadata": {
        "id": "LHXUw6MODu9G"
      },
      "outputs": [],
      "source": [
        "# @title Шаг 2: Настройки и запуск генерации\n",
        "#\n",
        "# Укажите путь к вашему файлу и выберите параметры.\n",
        "# После этого запустите ячейку для начала генерации субтитров.\n",
        "\n",
        "import os\n",
        "import sys\n",
        "\n",
        "# @markdown ### Пути к файлам\n",
        "# @markdown Путь к файлу на Google Drive (например, `/content/drive/MyDrive/my_videos/episode1.mp4`)\n",
        "input_file_path = \"/content/drive/MyDrive/bei.mp3\" #@param {type:\"string\"}\n",
        "\n",
        "# @markdown Путь к папке для сохранения субтитров (например, `/content/drive/MyDrive/my_videos/`)\n",
        "output_dir_path = \"/content/drive/MyDrive/subtitles/\" #@param {type:\"string\"}\n",
        "\n",
        "# @markdown ### Параметры\n",
        "# @markdown Имя модели Whisper (tiny, base, small, medium, large, large-v2, large-v3, kotoba-whisper)\n",
        "model_name = \"kotoba-whisper\" #@param [\"tiny\", \"base\", \"small\", \"medium\", \"large\", \"large-v2\", \"large-v3\", \"kotoba-whisper\"]\n",
        "\n",
        "# @markdown Устройство для вычислений (cuda или cpu)\n",
        "device = \"cuda\" #@param [\"cuda\", \"cpu\"]\n",
        "\n",
        "# --- Выполнение ---\n",
        "print(\"\\n--- Запуск процесса создания субтитров ---\")\n",
        "\n",
        "# Проверяем, существует ли входной файл\n",
        "if not os.path.exists(input_file_path):\n",
        "    print(f\"Ошибка: Файл не найден по пути: {input_file_path}\")\n",
        "else:\n",
        "    # Проверяем, существует ли папка для сохранения. Если нет, создаем её.\n",
        "    if not os.path.exists(output_dir_path):\n",
        "        os.makedirs(output_dir_path)\n",
        "        print(f\"Папка для сохранения '{output_dir_path}' была создана.\")\n",
        "\n",
        "    # Определяем имя выходного файла\n",
        "    base_name = os.path.splitext(os.path.basename(input_file_path))[0]\n",
        "    output_srt_name = os.path.join(output_dir_path, f\"{base_name}.srt\")\n",
        "\n",
        "    # Запуск твоей команды animesub\n",
        "    !animesub \"$input_file_path\" -o \"$output_srt_name\" -m \"$model_name\" -d \"$device\"\n",
        "\n",
        "    print(f\"\\n--- Процесс завершен! ---\")\n",
        "    print(f\"Субтитры сохранены в файл: {output_srt_name}\")"
      ]
    },
    {
      "cell_type": "code",
      "source": [
        "# @title Шаг 3: Скачать субтитры\n",
        "#\n",
        "# Запустите эту ячейку, чтобы скачать сгенерированный SRT-файл.\n",
        "from google.colab import files\n",
        "\n",
        "# Убедитесь, что переменная output_srt_name доступна\n",
        "# Если вы запустили предыдущую ячейку, она будет доступна\n",
        "try:\n",
        "    files.download(output_srt_name)\n",
        "    print(f\"\\nФайл {output_srt_name} успешно скачан.\")\n",
        "except NameError:\n",
        "    print(\"Ошибка: Переменная 'output_srt_name' не определена. Сначала запустите предыдущую ячейку.\")\n",
        "except FileNotFoundError:\n",
        "    print(f\"Ошибка: Файл {output_srt_name} не найден. Проверьте путь.\")"
      ],
      "metadata": {
        "id": "CjNuULa8Lusr"
      },
      "execution_count": null,
      "outputs": []
    }
  ]
}